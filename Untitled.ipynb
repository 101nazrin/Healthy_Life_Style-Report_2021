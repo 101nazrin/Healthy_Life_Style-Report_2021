{
 "cells": [
  {
   "cell_type": "code",
   "execution_count": null,
   "id": "4cab28ea",
   "metadata": {},
   "outputs": [],
   "source": []
  },
  {
   "cell_type": "code",
   "execution_count": null,
   "id": "0631fc8e",
   "metadata": {},
   "outputs": [],
   "source": []
  },
  {
   "cell_type": "code",
   "execution_count": null,
   "id": "094cbb4c",
   "metadata": {},
   "outputs": [],
   "source": []
  },
  {
   "cell_type": "code",
   "execution_count": null,
   "id": "2365d37e",
   "metadata": {},
   "outputs": [],
   "source": []
  },
  {
   "cell_type": "code",
   "execution_count": null,
   "id": "c94291fa",
   "metadata": {},
   "outputs": [],
   "source": []
  },
  {
   "cell_type": "code",
   "execution_count": null,
   "id": "6da13370",
   "metadata": {},
   "outputs": [],
   "source": []
  },
  {
   "cell_type": "code",
   "execution_count": null,
   "id": "81c15e95",
   "metadata": {},
   "outputs": [],
   "source": []
  },
  {
   "cell_type": "code",
   "execution_count": null,
   "id": "ac9e352c",
   "metadata": {},
   "outputs": [],
   "source": [
    "plt.figure\n",
    "plt.figure(figsize=(3,6))\n",
    "plt.violinplot(data1['Obesity_levels(Country)'],showmeans=True)\n",
    "plot_labels('Obesity_levels(Country)','values','obesity level')\n",
    "\n",
    "plt.legend(['max = .362','min=.039'])\n"
   ]
  },
  {
   "cell_type": "code",
   "execution_count": null,
   "id": "0359971f",
   "metadata": {},
   "outputs": [],
   "source": [
    "plt.figure()\n",
    "sns.jointplot(x='Pollution_Index_score_City',y='Life_expectancy_years_Country',\n",
    "              data=data1,kind='reg',color='#0824C9')\n",
    "r=data['Pollution_Index_score_City'].corr(data['Life_expectancy_years_Country'],method='pearson')\n",
    "plot_labels('Pollution_Index_score_City','Life_expectancy_years_Country','Pearsons r=.55')\n",
    "print(r)\n",
    "plt.show()"
   ]
  },
  {
   "cell_type": "code",
   "execution_count": null,
   "id": "e2134c8f",
   "metadata": {},
   "outputs": [],
   "source": [
    "plt.figure(figsize=(15,8))\n",
    "plt.subplot(2,2,1)\n",
    "plt.boxplot(data[\"Cost _of_bottle_of_water(City)\"],patch_artist=True,showmeans=True,boxprops=dict(facecolor='#56BDFD'))\n",
    "plot_labels('First 10 Cities','values',\"Cost _of_bottle_of_water(City)\")\n",
    "Describe(data,'Cost _of_bottle_of_water(City)')\n",
    "\n",
    "\n",
    "\n",
    "plt.subplot(2,2,2)\n",
    "plt.boxplot(data['Cost_of_a_monthly_gym_membership(City)'],patch_artist=True,boxprops=dict(facecolor='#F89165'),showmeans=True)\n",
    "plot_labels('First 10 Cities','values','Cost_of_a_monthly_gym_membership(City)')\n",
    "Describe(data,'Cost_of_a_monthly_gym_membership(City)')"
   ]
  },
  {
   "cell_type": "code",
   "execution_count": null,
   "id": "c5c7e902",
   "metadata": {},
   "outputs": [],
   "source": [
    "sns.heatmap(data.corr())"
   ]
  },
  {
   "cell_type": "code",
   "execution_count": null,
   "id": "d66c0fca",
   "metadata": {},
   "outputs": [],
   "source": []
  },
  {
   "cell_type": "code",
   "execution_count": null,
   "id": "4beb0587",
   "metadata": {},
   "outputs": [],
   "source": []
  }
 ],
 "metadata": {
  "kernelspec": {
   "display_name": "Python 3 (ipykernel)",
   "language": "python",
   "name": "python3"
  },
  "language_info": {
   "codemirror_mode": {
    "name": "ipython",
    "version": 3
   },
   "file_extension": ".py",
   "mimetype": "text/x-python",
   "name": "python",
   "nbconvert_exporter": "python",
   "pygments_lexer": "ipython3",
   "version": "3.9.7"
  }
 },
 "nbformat": 4,
 "nbformat_minor": 5
}
