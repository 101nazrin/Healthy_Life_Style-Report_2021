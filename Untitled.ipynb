{
 "cells": [
  {
   "cell_type": "code",
   "execution_count": null,
   "id": "adec2386",
   "metadata": {},
   "outputs": [],
   "source": []
  },
  {
   "cell_type": "code",
   "execution_count": null,
   "id": "97c53522",
   "metadata": {},
   "outputs": [],
   "source": []
  },
  {
   "cell_type": "code",
   "execution_count": null,
   "id": "efb4e172",
   "metadata": {},
   "outputs": [],
   "source": []
  },
  {
   "cell_type": "code",
   "execution_count": null,
   "id": "812bea87",
   "metadata": {},
   "outputs": [],
   "source": []
  },
  {
   "cell_type": "code",
   "execution_count": null,
   "id": "91a36ceb",
   "metadata": {},
   "outputs": [],
   "source": []
  },
  {
   "cell_type": "code",
   "execution_count": null,
   "id": "c9dc924a",
   "metadata": {},
   "outputs": [],
   "source": []
  },
  {
   "cell_type": "code",
   "execution_count": null,
   "id": "f25caecf",
   "metadata": {},
   "outputs": [],
   "source": []
  },
  {
   "cell_type": "code",
   "execution_count": null,
   "id": "3d249cae",
   "metadata": {},
   "outputs": [],
   "source": [
    "plt.figure\n",
    "plt.figure(figsize=(3,6))\n",
    "plt.violinplot(data1['Obesity_levels(Country)'],showmeans=True)\n",
    "plot_labels('Obesity_levels(Country)','values','obesity level')\n",
    "\n",
    "plt.legend(['max = .362','min=.039'])\n"
   ]
  },
  {
   "cell_type": "code",
   "execution_count": null,
   "id": "a0ff9455",
   "metadata": {},
   "outputs": [],
   "source": []
  },
  {
   "cell_type": "code",
   "execution_count": null,
   "id": "57a4cecc",
   "metadata": {},
   "outputs": [],
   "source": [
    "plt.figure(figsize=(15,8))\n",
    "plt.subplot(2,2,1)\n",
    "plt.boxplot(data[\"Cost _of_bottle_of_water(City)\"],patch_artist=True,showmeans=True,boxprops=dict(facecolor='#56BDFD'))\n",
    "plot_labels('First 10 Cities','values',\"Cost _of_bottle_of_water(City)\")\n",
    "Describe(data,'Cost _of_bottle_of_water(City)')\n",
    "\n",
    "\n",
    "\n",
    "plt.subplot(2,2,2)\n",
    "plt.boxplot(data['Cost_of_a_monthly_gym_membership(City)'],patch_artist=True,boxprops=dict(facecolor='#F89165'),showmeans=True)\n",
    "plot_labels('First 10 Cities','values','Cost_of_a_monthly_gym_membership(City)')\n",
    "Describe(data,'Cost_of_a_monthly_gym_membership(City)')"
   ]
  },
  {
   "cell_type": "code",
   "execution_count": null,
   "id": "3ec93f16",
   "metadata": {},
   "outputs": [],
   "source": [
    "sns.heatmap(data.corr())"
   ]
  },
  {
   "cell_type": "code",
   "execution_count": null,
   "id": "09b6221e",
   "metadata": {},
   "outputs": [],
   "source": []
  },
  {
   "cell_type": "code",
   "execution_count": null,
   "id": "8f75a4e3",
   "metadata": {},
   "outputs": [],
   "source": []
  }
 ],
 "metadata": {
  "kernelspec": {
   "display_name": "Python 3 (ipykernel)",
   "language": "python",
   "name": "python3"
  },
  "language_info": {
   "codemirror_mode": {
    "name": "ipython",
    "version": 3
   },
   "file_extension": ".py",
   "mimetype": "text/x-python",
   "name": "python",
   "nbconvert_exporter": "python",
   "pygments_lexer": "ipython3",
   "version": "3.9.7"
  }
 },
 "nbformat": 4,
 "nbformat_minor": 5
}
